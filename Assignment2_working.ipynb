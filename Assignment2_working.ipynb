{
  "nbformat": 4,
  "nbformat_minor": 0,
  "metadata": {
    "colab": {
      "name": "Assignment2_working.ipynb",
      "provenance": [],
      "include_colab_link": true
    },
    "kernelspec": {
      "name": "python3",
      "display_name": "Python 3"
    }
  },
  "cells": [
    {
      "cell_type": "markdown",
      "metadata": {
        "id": "view-in-github",
        "colab_type": "text"
      },
      "source": [
        "<a href=\"https://colab.research.google.com/github/sudipsiwakoti/Assignment_2/blob/master/Assignment2_working.ipynb\" target=\"_parent\"><img src=\"https://colab.research.google.com/assets/colab-badge.svg\" alt=\"Open In Colab\"/></a>"
      ]
    },
    {
      "cell_type": "markdown",
      "metadata": {
        "id": "IQSG7_ZjZM-W",
        "colab_type": "text"
      },
      "source": [
        "\n",
        "\n",
        "```\n",
        "\n",
        "```\n",
        "\n"
      ]
    },
    {
      "cell_type": "code",
      "metadata": {
        "id": "crz__V0nbuiC",
        "colab_type": "code",
        "colab": {}
      },
      "source": [
        "#importing libraries  \n",
        "\n",
        "import pandas as pd\n",
        "import matplotlib.pyplot as plt\n",
        "import seaborn as sns\n",
        "\n"
      ],
      "execution_count": 0,
      "outputs": []
    },
    {
      "cell_type": "code",
      "metadata": {
        "id": "h96J3T-jrCMW",
        "colab_type": "code",
        "colab": {}
      },
      "source": [
        "url = \"https://raw.githubusercontent.com/sudipsiwakoti/Assignment_2/master/Melbourne_housing_FULL.csv\""
      ],
      "execution_count": 0,
      "outputs": []
    },
    {
      "cell_type": "code",
      "metadata": {
        "id": "kzM2cm7Jq9uV",
        "colab_type": "code",
        "colab": {}
      },
      "source": [
        "dataset= pd.read_csv(url)\n"
      ],
      "execution_count": 0,
      "outputs": []
    },
    {
      "cell_type": "code",
      "metadata": {
        "id": "9m0nqWZRrGOz",
        "colab_type": "code",
        "colab": {}
      },
      "source": [
        "dataset.info()\n",
        "\n"
      ],
      "execution_count": 0,
      "outputs": []
    },
    {
      "cell_type": "code",
      "metadata": {
        "id": "cxL7QmTOcC8r",
        "colab_type": "code",
        "colab": {}
      },
      "source": [
        "#datasetdummies = pd.get_dummies(dataset['Type'], prefix='Type' )\n",
        "#dataset= pd.concat([dataset, datasetdummies], axis=1)\n",
        " "
      ],
      "execution_count": 0,
      "outputs": []
    },
    {
      "cell_type": "code",
      "metadata": {
        "id": "kR4HGH07YO6R",
        "colab_type": "code",
        "colab": {}
      },
      "source": [
        "dataset.head() "
      ],
      "execution_count": 0,
      "outputs": []
    },
    {
      "cell_type": "code",
      "metadata": {
        "id": "PZe_ZtHrZufc",
        "colab_type": "code",
        "colab": {}
      },
      "source": [
        "#data Preprocessing\n",
        "\n",
        "dataset = dataset.drop(['Bedroom2', 'Type'], axis=1 )\n"
      ],
      "execution_count": 0,
      "outputs": []
    },
    {
      "cell_type": "code",
      "metadata": {
        "id": "-mG5rJDfZu0u",
        "colab_type": "code",
        "colab": {}
      },
      "source": [
        "dataset =dataset.dropna()\n",
        "#sns.pairplot(dataset, diag_kind='kde')"
      ],
      "execution_count": 0,
      "outputs": []
    },
    {
      "cell_type": "code",
      "metadata": {
        "id": "f036whv8Zu34",
        "colab_type": "code",
        "colab": {}
      },
      "source": [
        "#dataset=dataset.drop(dataset[(dataset.BuildingArea>500)].index)\n",
        "dataset= dataset.drop(dataset[(dataset.Car >10)].index)\n",
        "dataset= dataset.drop(dataset[(dataset.Price >9000000)].index)\n",
        "dataset= dataset.drop(dataset[(dataset.Bathroom >10)].index)\n",
        "dataset= dataset.drop(dataset[(dataset.YearBuilt < 1800)].index)\n",
        "dataset= dataset.drop(dataset[(dataset.YearBuilt > 2020)].index)\n",
        "#dataset= dataset.drop(dataset[(dataset.Landsize>1000)].index)"
      ],
      "execution_count": 0,
      "outputs": []
    },
    {
      "cell_type": "code",
      "metadata": {
        "id": "nOoGOTI9Zu6y",
        "colab_type": "code",
        "colab": {}
      },
      "source": [
        "dataset =dataset.dropna()\n",
        "sns.pairplot(dataset, diag_kind='kde')"
      ],
      "execution_count": 0,
      "outputs": []
    },
    {
      "cell_type": "code",
      "metadata": {
        "id": "Foglp2HxQmka",
        "colab_type": "code",
        "colab": {}
      },
      "source": [
        "sns.pairplot(dataset,hue=\"Type\",palette=\"hls\")"
      ],
      "execution_count": 0,
      "outputs": []
    },
    {
      "cell_type": "markdown",
      "metadata": {
        "id": "i-4D3FHj6T7V",
        "colab_type": "text"
      },
      "source": [
        ""
      ]
    },
    {
      "cell_type": "code",
      "metadata": {
        "id": "ZjroqC-VZu9r",
        "colab_type": "code",
        "colab": {}
      },
      "source": [
        "X = dataset.loc[:,dataset.columns != 'Price']\n",
        "Y = dataset.loc[:,dataset.columns=='Price']\n",
        "\n",
        "X= X.drop(['Suburb', 'Address', 'Method', 'SellerG', 'Date', 'CouncilArea','Regionname' ], axis=1 )\n",
        "\n",
        "\n",
        "\n",
        "X.info()"
      ],
      "execution_count": 0,
      "outputs": []
    },
    {
      "cell_type": "code",
      "metadata": {
        "id": "9mwxWZGSFhA_",
        "colab_type": "code",
        "colab": {}
      },
      "source": [
        "x= pd.concat([X.drop('Type', axis=1), pd.get_dummies(X['Type'], prefix ='Type')], axis=1)\n",
        "x.head()\n",
        "X=x\n",
        "X=X.dropna()"
      ],
      "execution_count": 0,
      "outputs": []
    },
    {
      "cell_type": "code",
      "metadata": {
        "id": "b_neCffr8qG-",
        "colab_type": "code",
        "colab": {}
      },
      "source": [
        "from sklearn.feature_selection import RFE\n",
        "from sklearn.linear_model import LogisticRegression"
      ],
      "execution_count": 0,
      "outputs": []
    },
    {
      "cell_type": "code",
      "metadata": {
        "id": "VntbIiQh8qSp",
        "colab_type": "code",
        "colab": {}
      },
      "source": [
        "# Feature extraction\n",
        "model = LogisticRegression(solver='lbfgs', multi_class='auto')\n",
        "rfe = RFE(model, 5)\n",
        "fit = rfe.fit(X, Y)\n",
        "print(\"Num Features: %s\" % (fit.n_features_))\n",
        "print(\"Selected Features: %s\" % (fit.support_))\n",
        "print(\"Feature Ranking: %s\" % (fit.ranking_))"
      ],
      "execution_count": 0,
      "outputs": []
    },
    {
      "cell_type": "code",
      "metadata": {
        "id": "347eEgZdLQ3i",
        "colab_type": "code",
        "colab": {}
      },
      "source": [
        "X.info()\n"
      ],
      "execution_count": 0,
      "outputs": []
    },
    {
      "cell_type": "code",
      "metadata": {
        "id": "ccD3q8U2COgf",
        "colab_type": "code",
        "colab": {}
      },
      "source": [
        "from sklearn.tree import DecisionTreeRegressor\n",
        "\n",
        "# Define model\n",
        "model = DecisionTreeRegressor()\n",
        "\n",
        "#Fit the model\n",
        "model.fit(X,Y)"
      ],
      "execution_count": 0,
      "outputs": []
    },
    {
      "cell_type": "code",
      "metadata": {
        "id": "d0_wegFQCOmj",
        "colab_type": "code",
        "colab": {}
      },
      "source": [
        "print(\"Making predictions for the following 5 houses\")\n",
        "print(X.head())\n",
        "print(\"The predicted values are\")\n",
        "print(model.predict(X.head()))"
      ],
      "execution_count": 0,
      "outputs": []
    },
    {
      "cell_type": "code",
      "metadata": {
        "id": "nw5YmRKTCOqy",
        "colab_type": "code",
        "colab": {}
      },
      "source": [
        "from sklearn.metrics import mean_absolute_error"
      ],
      "execution_count": 0,
      "outputs": []
    },
    {
      "cell_type": "code",
      "metadata": {
        "id": "xtsFb1mfCOte",
        "colab_type": "code",
        "colab": {}
      },
      "source": [
        "predicted_prices = model.predict(x)\n",
        "z = mean_absolute_error(Y,predicted_prices)\n",
        "print (z)\n",
        "print(predicted_prices)\n",
        "print (Y)"
      ],
      "execution_count": 0,
      "outputs": []
    },
    {
      "cell_type": "code",
      "metadata": {
        "id": "Ii9d_20BCOv5",
        "colab_type": "code",
        "colab": {}
      },
      "source": [
        "from sklearn.model_selection import train_test_split"
      ],
      "execution_count": 0,
      "outputs": []
    },
    {
      "cell_type": "code",
      "metadata": {
        "id": "rOMdeq4ICviu",
        "colab_type": "code",
        "colab": {}
      },
      "source": [
        "train_X,test_X,train_y,test_y = train_test_split(X,Y,random_state= 564)"
      ],
      "execution_count": 0,
      "outputs": []
    },
    {
      "cell_type": "code",
      "metadata": {
        "id": "3QI4UB_ACvlk",
        "colab_type": "code",
        "colab": {}
      },
      "source": [
        "model_1 = DecisionTreeRegressor()\n",
        "# Fit the model\n",
        "model_1.fit(train_X,train_y)"
      ],
      "execution_count": 0,
      "outputs": []
    },
    {
      "cell_type": "code",
      "metadata": {
        "id": "SsmTKtwvCvog",
        "colab_type": "code",
        "colab": {}
      },
      "source": [
        "predicted_prices_1 = model_1.predict(test_X)"
      ],
      "execution_count": 0,
      "outputs": []
    },
    {
      "cell_type": "code",
      "metadata": {
        "id": "iYbUhFQ8DSvD",
        "colab_type": "code",
        "colab": {}
      },
      "source": [
        "print(mean_absolute_error(test_y,predicted_prices_1))\n",
        "#print (test_y)\n",
        "#print (predicted_prices_1)\n",
        "#Diff= pd.concat(predicted_prices_1,test_y, axis=1)\n",
        "#test_y.shape()\n",
        "#predicted_prices_1.shape()"
      ],
      "execution_count": 0,
      "outputs": []
    },
    {
      "cell_type": "code",
      "metadata": {
        "id": "GDWEE2TIDSyL",
        "colab_type": "code",
        "colab": {}
      },
      "source": [
        "from sklearn.metrics import mean_absolute_error\n",
        "from sklearn.tree import DecisionTreeRegressor"
      ],
      "execution_count": 0,
      "outputs": []
    },
    {
      "cell_type": "code",
      "metadata": {
        "id": "QGUQ9bE3DS3o",
        "colab_type": "code",
        "colab": {}
      },
      "source": [
        "def get_mae(max_leaf_nodes, train_X, train_y,test_X, test_y):\n",
        "    model_2 = DecisionTreeRegressor(max_leaf_nodes=max_leaf_nodes,random_state=454)\n",
        "    model_2.fit(train_X,train_y)\n",
        "    pred_y = model_2.predict(test_X)\n",
        "    mae = mean_absolute_error(test_y,pred_y)\n",
        "    return mae"
      ],
      "execution_count": 0,
      "outputs": []
    },
    {
      "cell_type": "code",
      "metadata": {
        "id": "JuK0kw92DS6r",
        "colab_type": "code",
        "colab": {}
      },
      "source": [
        "for max_leaves in [2,3,5,50,150,200,250,300,500,1000,3000,5000,18000,50000]:\n",
        "    my_mae = get_mae(max_leaves,train_X,train_y,test_X,test_y)\n",
        "    print(\"max leaf nodes : %d \\t and Mean Absolute error : %d\"%(max_leaves,my_mae))"
      ],
      "execution_count": 0,
      "outputs": []
    },
    {
      "cell_type": "code",
      "metadata": {
        "id": "dMnpK-2sDS_t",
        "colab_type": "code",
        "colab": {}
      },
      "source": [
        ""
      ],
      "execution_count": 0,
      "outputs": []
    },
    {
      "cell_type": "code",
      "metadata": {
        "id": "qOxW7kF0ZvAa",
        "colab_type": "code",
        "colab": {}
      },
      "source": [
        ""
      ],
      "execution_count": 0,
      "outputs": []
    },
    {
      "cell_type": "code",
      "metadata": {
        "id": "dK0OKLsTZvDn",
        "colab_type": "code",
        "colab": {}
      },
      "source": [
        ""
      ],
      "execution_count": 0,
      "outputs": []
    }
  ]
}