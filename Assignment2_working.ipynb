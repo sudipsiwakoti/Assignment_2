{
  "nbformat": 4,
  "nbformat_minor": 0,
  "metadata": {
    "colab": {
      "name": "Assignment2_working.ipynb",
      "provenance": [],
      "include_colab_link": true
    },
    "kernelspec": {
      "name": "python3",
      "display_name": "Python 3"
    }
  },
  "cells": [
    {
      "cell_type": "markdown",
      "metadata": {
        "id": "view-in-github",
        "colab_type": "text"
      },
      "source": [
        "<a href=\"https://colab.research.google.com/github/sudipsiwakoti/Assignment_2/blob/master/Assignment2_working.ipynb\" target=\"_parent\"><img src=\"https://colab.research.google.com/assets/colab-badge.svg\" alt=\"Open In Colab\"/></a>"
      ]
    },
    {
      "cell_type": "code",
      "metadata": {
        "id": "crz__V0nbuiC",
        "colab_type": "code",
        "colab": {
          "base_uri": "https://localhost:8080/",
          "height": 101
        },
        "outputId": "b7d27cfe-3ccc-488f-d4d1-f56f0567a1e4"
      },
      "source": [
        "#importing libraries  \n",
        "!pip install pandas\n",
        "import pandas as pd\n",
        "from google.colab import drive\n"
      ],
      "execution_count": 10,
      "outputs": [
        {
          "output_type": "stream",
          "text": [
            "Requirement already satisfied: pandas in /usr/local/lib/python3.6/dist-packages (0.24.2)\n",
            "Requirement already satisfied: numpy>=1.12.0 in /usr/local/lib/python3.6/dist-packages (from pandas) (1.16.5)\n",
            "Requirement already satisfied: python-dateutil>=2.5.0 in /usr/local/lib/python3.6/dist-packages (from pandas) (2.5.3)\n",
            "Requirement already satisfied: pytz>=2011k in /usr/local/lib/python3.6/dist-packages (from pandas) (2018.9)\n",
            "Requirement already satisfied: six>=1.5 in /usr/local/lib/python3.6/dist-packages (from python-dateutil>=2.5.0->pandas) (1.12.0)\n"
          ],
          "name": "stdout"
        }
      ]
    },
    {
      "cell_type": "code",
      "metadata": {
        "id": "h96J3T-jrCMW",
        "colab_type": "code",
        "colab": {
          "base_uri": "https://localhost:8080/",
          "height": 34
        },
        "outputId": "784f196d-6b22-4d67-cc51-3178b60f2e7f"
      },
      "source": [
        "drive.mount('/content/drive')"
      ],
      "execution_count": 14,
      "outputs": [
        {
          "output_type": "stream",
          "text": [
            "Mounted at /content/drive\n"
          ],
          "name": "stdout"
        }
      ]
    },
    {
      "cell_type": "code",
      "metadata": {
        "id": "kzM2cm7Jq9uV",
        "colab_type": "code",
        "colab": {
          "base_uri": "https://localhost:8080/",
          "height": 34
        },
        "outputId": "43999a2a-1d15-4591-eb5a-9524701a417b"
      },
      "source": [
        "!ls \"/content/drive/My Drive/Machine learning\""
      ],
      "execution_count": 15,
      "outputs": [
        {
          "output_type": "stream",
          "text": [
            "Emission_methane.csv\n"
          ],
          "name": "stdout"
        }
      ]
    },
    {
      "cell_type": "code",
      "metadata": {
        "id": "9m0nqWZRrGOz",
        "colab_type": "code",
        "colab": {}
      },
      "source": [
        "methane_df = pd.read_csv(\"/content/drive/My Drive/Machine learning/Emission_methane.csv\", skiprows= 4, error_bad_lines=False)\n"
      ],
      "execution_count": 0,
      "outputs": []
    },
    {
      "cell_type": "code",
      "metadata": {
        "id": "cxL7QmTOcC8r",
        "colab_type": "code",
        "colab": {
          "base_uri": "https://localhost:8080/",
          "height": 1000
        },
        "outputId": "4f7cd5ee-284e-4111-c81f-ffbc47ff84a9"
      },
      "source": [
        "total_methane= methane_df.groupby('Country Name').sum()\n",
        "methane_df_transpose = total_methane.transpose()\n",
        "Total_methane= methane_df_transpose.sum(1)\n",
        "Total_methane= Total_methane.reset_index()\n",
        "Total_methane = Total_methane.rename(columns={\"index\":\"Year\"})\n",
        "print(Total_methane)"
      ],
      "execution_count": 25,
      "outputs": [
        {
          "output_type": "stream",
          "text": [
            "    Year            0\n",
            "0   1960     0.000000\n",
            "1   1961  7743.493040\n",
            "2   1962  7751.492186\n",
            "3   1963  7788.391770\n",
            "4   1964  7808.624409\n",
            "5   1965  7833.469152\n",
            "6   1966  7848.466808\n",
            "7   1967  7856.544746\n",
            "8   1968  7865.416238\n",
            "9   1969  7889.806077\n",
            "10  1970  7876.246508\n",
            "11  1971  7869.222701\n",
            "12  1972  7872.559665\n",
            "13  1973  7903.505193\n",
            "14  1974  7897.178457\n",
            "15  1975  7883.813641\n",
            "16  1976  7894.985494\n",
            "17  1977  7910.899834\n",
            "18  1978  7925.769069\n",
            "19  1979  7935.202822\n",
            "20  1980  7951.947183\n",
            "21  1981  7961.941319\n",
            "22  1982  7918.248463\n",
            "23  1983  7918.026281\n",
            "24  1984  7961.509703\n",
            "25  1985  7979.505062\n",
            "26  1986  8001.798465\n",
            "27  1987  8024.330567\n",
            "28  1988  8042.160737\n",
            "29  1989  8043.161341\n",
            "30  1990  8034.140825\n",
            "31  1991  8140.581866\n",
            "32  1992  9289.606042\n",
            "33  1993  9488.841703\n",
            "34  1994  9471.757465\n",
            "35  1995  9469.241490\n",
            "36  1996  9478.788143\n",
            "37  1997  9499.789702\n",
            "38  1998  9510.989794\n",
            "39  1999  9533.804491\n",
            "40  2000  9621.274002\n",
            "41  2001  9607.316416\n",
            "42  2002  9593.781855\n",
            "43  2003  9589.081580\n",
            "44  2004  9580.094520\n",
            "45  2005  9547.340455\n",
            "46  2006  9598.729939\n",
            "47  2007  9630.797228\n",
            "48  2008  9608.738379\n",
            "49  2009  9603.144410\n",
            "50  2010  9609.956072\n",
            "51  2011  9615.602559\n",
            "52  2012  9615.690377\n",
            "53  2013  9592.580219\n",
            "54  2014  9583.477798\n",
            "55  2015  9573.982065\n",
            "56  2016  9567.728038\n",
            "57  2017     0.000000\n",
            "58  2018     0.000000\n"
          ],
          "name": "stdout"
        }
      ]
    }
  ]
}