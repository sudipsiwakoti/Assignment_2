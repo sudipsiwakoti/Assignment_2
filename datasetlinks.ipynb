{
  "nbformat": 4,
  "nbformat_minor": 0,
  "metadata": {
    "colab": {
      "name": "datasetlinks.ipynb",
      "version": "0.3.2",
      "provenance": [],
      "include_colab_link": true
    },
    "kernelspec": {
      "name": "python3",
      "display_name": "Python 3"
    }
  },
  "cells": [
    {
      "cell_type": "markdown",
      "metadata": {
        "id": "view-in-github",
        "colab_type": "text"
      },
      "source": [
        "<a href=\"https://colab.research.google.com/github/sudipsiwakoti/Assignment_2/blob/master/datasetlinks.ipynb\" target=\"_parent\"><img src=\"https://colab.research.google.com/assets/colab-badge.svg\" alt=\"Open In Colab\"/></a>"
      ]
    },
    {
      "cell_type": "markdown",
      "metadata": {
        "id": "ixvoRU3uP1H8",
        "colab_type": "text"
      },
      "source": [
        "https://www.kaggle.com/mpwolke/cusersmarildownloadstserofcsv  (AREA DEFORESTED in AMAZONIA between 2012-2017)\n",
        "https://www.kaggle.com/tarikcorut/forest-area-of-land-area (FOREST AREA  WORLD country + area between 1990-2015)"
      ]
    },
    {
      "cell_type": "markdown",
      "metadata": {
        "id": "kKDs-RM6MzYT",
        "colab_type": "text"
      },
      "source": [
        "http://www.fao.org/faostat/en/#data/QL\n",
        "\n",
        "https://www.esrl.noaa.gov/psd/data/gridded/data.noaaglobaltemp.html\n"
      ]
    }
  ]
}